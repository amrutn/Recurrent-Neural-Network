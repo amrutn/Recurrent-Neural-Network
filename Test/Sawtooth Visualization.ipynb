{
 "cells": [
  {
   "cell_type": "code",
   "execution_count": null,
   "metadata": {},
   "outputs": [],
   "source": [
    "import numpy as np\n",
    "import sys\n",
    "sys.path.insert(0, '..') #This line adds '..' to the path so we can import the net_framework python file\n",
    "from RNN_model import *\n",
    "import matplotlib.pyplot as plt\n",
    "import plotly.graph_objects as go\n",
    "import networkx as nx\n",
    "import scipy.signal as sp\n",
    "from scipy.integrate import odeint\n",
    "import random\n",
    "import pickle\n",
    "import seaborn as sns"
   ]
  },
  {
   "cell_type": "markdown",
   "metadata": {},
   "source": [
    "Loading saved RNN"
   ]
  },
  {
   "cell_type": "code",
   "execution_count": null,
   "metadata": {},
   "outputs": [],
   "source": [
    "def feedback(x):\n",
    "    if x.timestep < 10:\n",
    "        return 0\n",
    "    else:\n",
    "        output = x.output_node_list[0]\n",
    "        activation = output.get_activation(x.timestep - 10)\n",
    "        return 1.3 * np.tanh(np.sin(np.pi * activation))\n",
    "    \n",
    "f = lambda t : sp.sawtooth(2 * np.pi * 1/100 * t, width = 0.5)\n",
    "\n",
    "with open('saved_nets/sawtooth.RNN', 'rb') as RNN_file:\n",
    "    loaded_RNN = pickle.load(RNN_file)"
   ]
  },
  {
   "cell_type": "code",
   "execution_count": null,
   "metadata": {},
   "outputs": [],
   "source": [
    "G = nx.Graph()\n",
    "G.add_node(range(1000))\n",
    "G.add_edges_from(loaded_RNN.internal_edges)\n",
    "H = nx.DiGraph(G)\n",
    "fig, ax = plt.subplots(figsize = [50,50])\n",
    "options = {\n",
    "    'node_color': 'black',\n",
    "    'node_size': 40,\n",
    "    'width': 0.15,\n",
    "}\n",
    "nx.draw(G, **options)\n",
    "fig.savefig('../../sawtooth_network_structure.png')\n",
    "plt.show()"
   ]
  },
  {
   "cell_type": "code",
   "execution_count": null,
   "metadata": {},
   "outputs": [],
   "source": [
    "plt.rcParams['font.size']=15\n",
    "\n",
    "outputs = loaded_RNN.get_output_activations()\n",
    "fig,axes = plt.subplots(1,3,sharey=True, facecolor='w', figsize = [15, 5])\n",
    "ax, ax2, ax3 = axes\n",
    "t = np.arange(3751)\n",
    "ax.plot(t, f(t), 'r-', label = 'Target')\n",
    "ax.plot(outputs[0], 'b--', alpha = 0.7, label = 'Generated')\n",
    "ax2.plot(t, f(t), 'r-')\n",
    "ax2.plot(outputs[0], 'b--', alpha = 0.7)\n",
    "ax3.plot(t, f(t), 'r-')\n",
    "ax3.plot(outputs[0], 'b--', alpha = 0.7)\n",
    "\n",
    "ax.set_xlim(0,250)\n",
    "ax2.set_xlim(750, 1000)\n",
    "ax3.set_xlim(1400, 1650)\n",
    "\n",
    "ax.spines['right'].set_visible(False)\n",
    "ax2.spines['left'].set_visible(False)\n",
    "ax.tick_params(labelright=False)\n",
    "ax2.tick_params(axis = 'y', left = False, labelright=False)\n",
    "\n",
    "ax2.spines['right'].set_visible(False)\n",
    "ax3.spines['left'].set_visible(False)\n",
    "ax3.tick_params(axis = 'y', left = False, labelright=False)\n",
    "\n",
    "ax.set_title('Pre-Training')\n",
    "ax2.set_title('During Training')\n",
    "ax3.set_title('Post-Training')\n",
    "\n",
    "plt.ylim(-1.2, 1.2)\n",
    "ax2.set_xlabel('Timestep')\n",
    "ax.legend()\n",
    "fig.savefig('../../sawtooth_output.png')\n",
    "plt.show()"
   ]
  },
  {
   "cell_type": "code",
   "execution_count": null,
   "metadata": {},
   "outputs": [],
   "source": [
    "plt.rcParams['font.size']=15\n",
    "node_activations = loaded_RNN.get_internal_node_activations()\n",
    "outputs = [node_activations[15], node_activations[563], node_activations[806]]\n",
    "\n",
    "fig,axes = plt.subplots(3,3,sharey=True, facecolor='w', figsize = [15, 6])\n",
    "for idx, axis_list in enumerate(axes):\n",
    "    ax, ax2, ax3 = axis_list\n",
    "    t = np.arange(3751)\n",
    "    ax.plot(outputs[idx], 'g')\n",
    "    ax2.plot(outputs[idx], 'g',)\n",
    "    ax3.plot(outputs[idx], 'g')\n",
    "\n",
    "    ax.set_xlim(0,250)\n",
    "    ax2.set_xlim(750, 1000)\n",
    "    ax3.set_xlim(1400, 1650)\n",
    "\n",
    "    ax.spines['right'].set_visible(False)\n",
    "    ax2.spines['left'].set_visible(False)\n",
    "    ax.tick_params(labelright=False)\n",
    "    ax2.tick_params(axis = 'y', left = False, labelright=False)\n",
    "\n",
    "    ax2.spines['right'].set_visible(False)\n",
    "    ax3.spines['left'].set_visible(False)\n",
    "    ax3.tick_params(axis = 'y', left = False, labelright=False)\n",
    "    if idx == 0:\n",
    "        ax.set_title('Pre-Training')\n",
    "        ax2.set_title('During Training')\n",
    "        ax3.set_title('Post-Training')\n",
    "    \n",
    "    plt.ylim(-1.2, 1.2)\n",
    "    if idx == 2:\n",
    "        ax2.set_xlabel('Timestep')\n",
    "plt.tight_layout()\n",
    "fig.savefig('../../sawtooth_node_activations.png')\n",
    "plt.show()"
   ]
  },
  {
   "cell_type": "code",
   "execution_count": null,
   "metadata": {},
   "outputs": [],
   "source": []
  }
 ],
 "metadata": {
  "kernelspec": {
   "display_name": "Python 3",
   "language": "python",
   "name": "python3"
  },
  "language_info": {
   "codemirror_mode": {
    "name": "ipython",
    "version": 3
   },
   "file_extension": ".py",
   "mimetype": "text/x-python",
   "name": "python",
   "nbconvert_exporter": "python",
   "pygments_lexer": "ipython3",
   "version": "3.7.3"
  }
 },
 "nbformat": 4,
 "nbformat_minor": 2
}
