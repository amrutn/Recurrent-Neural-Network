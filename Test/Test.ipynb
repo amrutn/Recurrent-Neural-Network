{
 "cells": [
  {
   "cell_type": "code",
   "execution_count": null,
   "metadata": {},
   "outputs": [],
   "source": [
    "import numpy as np\n",
    "import sys\n",
    "sys.path.insert(0, '..') #This line adds '..' to the path so we can import the net_framework python file\n",
    "from RNN_model import *\n",
    "import matplotlib.pyplot as plt\n",
    "import networkx as nx\n",
    "import scipy.signal as sp\n",
    "import random\n",
    "import pickle"
   ]
  },
  {
   "cell_type": "markdown",
   "metadata": {},
   "source": [
    "Generating and Visualizing our Network"
   ]
  },
  {
   "cell_type": "code",
   "execution_count": null,
   "metadata": {
    "scrolled": false
   },
   "outputs": [],
   "source": [
    "num_nodes = 1000\n",
    "P_connection = 0.09\n",
    "G = nx.random_geometric_graph(num_nodes, P_connection)\n",
    "fig, ax = plt.subplots(figsize = [50,50])\n",
    "options = {\n",
    "    'node_color': 'black',\n",
    "    'node_size': 40,\n",
    "    'width': 0.2,\n",
    "}\n",
    "\n",
    "nx.draw(G, **options)\n",
    "plt.show()"
   ]
  },
  {
   "cell_type": "markdown",
   "metadata": {},
   "source": [
    "### Sin + Sawtooth"
   ]
  },
  {
   "cell_type": "markdown",
   "metadata": {},
   "source": [
    "Setting edge weights and feedback for the recurrent network"
   ]
  },
  {
   "cell_type": "code",
   "execution_count": null,
   "metadata": {},
   "outputs": [],
   "source": [
    "edges = np.asarray(G.edges())\n",
    "g = 1.5\n",
    "edges = np.array(edges).astype('int32')\n",
    "init_activations = np.random.uniform(-1, 1, num_nodes)\n",
    "internal_weights = np.random.normal(0, g * 1/np.sqrt(num_nodes * P_connection), edges.shape[0])\n",
    "output_weights = np.random.normal(0, .01, (1, num_nodes))\n",
    "def feedback(x):\n",
    "    if x.timestep < 10:\n",
    "        return 0\n",
    "    else:\n",
    "        output = x.output_node_list[0]\n",
    "        activation = output.get_activation(x.timestep - 10)\n",
    "        return 1.3 * np.tanh(np.sin(np.pi * activation))\n",
    "\n",
    "feedback_weights = np.random.normal(0, .5, (1, num_nodes))\n",
    "\n",
    "a = RNN(num_nodes, init_activations, edges, internal_weights,\n",
    "        1, output_weights,\n",
    "        recurrent_weight = .8, feedback_funcs = [feedback],\n",
    "        feedback_weights = feedback_weights)"
   ]
  },
  {
   "cell_type": "markdown",
   "metadata": {},
   "source": [
    "Simulating Network Activity"
   ]
  },
  {
   "cell_type": "code",
   "execution_count": null,
   "metadata": {},
   "outputs": [],
   "source": [
    "sim_time = 250\n",
    "a.simulate(sim_time)\n",
    "print(a.internal_weights.shape)"
   ]
  },
  {
   "cell_type": "markdown",
   "metadata": {},
   "source": [
    "Visualizing Network Output"
   ]
  },
  {
   "cell_type": "code",
   "execution_count": null,
   "metadata": {
    "scrolled": true
   },
   "outputs": [],
   "source": [
    "outputs = a.get_output_activations()[0]\n",
    "fig, ax = plt.subplots()\n",
    "plt.plot(range(sim_time + 1), outputs)\n",
    "plt.show()"
   ]
  },
  {
   "cell_type": "markdown",
   "metadata": {},
   "source": [
    "Visualizing actiivty of first 10 nodes"
   ]
  },
  {
   "cell_type": "code",
   "execution_count": null,
   "metadata": {
    "scrolled": true
   },
   "outputs": [],
   "source": [
    "node_activations = a.get_internal_node_activations()\n",
    "for i in range(10):\n",
    "    fig, ax = plt.subplots()\n",
    "    plt.plot(range(sim_time + 1), node_activations[i])\n",
    "    plt.show()"
   ]
  },
  {
   "cell_type": "markdown",
   "metadata": {},
   "source": [
    "Training Network to match Sin+Sawtooth function gien by f"
   ]
  },
  {
   "cell_type": "code",
   "execution_count": null,
   "metadata": {
    "scrolled": true
   },
   "outputs": [],
   "source": [
    "train_time = int(3000)\n",
    "f = lambda t : .5 * sp.sawtooth(2 * np.pi * 1/100 * t, width = 0.5) + .5 * np.sin(2 * np.pi * 1/50 * t + np.pi/4)\n",
    "a.FORCE_train(train_time, f, alpha = 100, timesteps_per_update = 1,\n",
    "             train_weights = {'internal' : False, 'input' : False, \n",
    "                              'output' : True, 'feedback' : True})\n",
    "print(a.internal_weights.shape)"
   ]
  },
  {
   "cell_type": "markdown",
   "metadata": {},
   "source": [
    "Visualizing output before and during training"
   ]
  },
  {
   "cell_type": "code",
   "execution_count": null,
   "metadata": {},
   "outputs": [],
   "source": [
    "outputs = a.get_output_activations()\n",
    "fig, ax = plt.subplots()\n",
    "time = np.array(range(train_time + sim_time + 1))\n",
    "plt.plot(time, outputs[i])\n",
    "plt.plot(time, f(time))\n",
    "plt.xlabel(\"time\")\n",
    "plt.ylim(-1.2, 1.2)\n",
    "plt.ylabel(\"Output Before and During Training\")\n",
    "plt.show()\n"
   ]
  },
  {
   "cell_type": "markdown",
   "metadata": {},
   "source": [
    "Visualizing node activity before and during training"
   ]
  },
  {
   "cell_type": "code",
   "execution_count": null,
   "metadata": {},
   "outputs": [],
   "source": [
    "node_activations = a.get_internal_node_activations()\n",
    "for i in range(10):\n",
    "    fig, ax = plt.subplots()\n",
    "    plt.plot(range(sim_time + train_time + 1), node_activations[i])\n",
    "    plt.show()"
   ]
  },
  {
   "cell_type": "markdown",
   "metadata": {},
   "source": [
    "Visualizing amount of weight update"
   ]
  },
  {
   "cell_type": "code",
   "execution_count": null,
   "metadata": {},
   "outputs": [],
   "source": [
    "plt.plot(range(len(a.weight_history) - 1), [np.mean(np.absolute(np.array(a.weight_history[i + 1]) - np.array(a.weight_history[i]))) for i in range(len(a.weight_history) - 1)])\n",
    "print(a.weight_history[1])\n",
    "plt.xlabel(\"Weight Update Number\")\n",
    "plt.ylabel(\"Amout weight was changed\")"
   ]
  },
  {
   "cell_type": "markdown",
   "metadata": {},
   "source": [
    "Simulating network without training to check for convergence"
   ]
  },
  {
   "cell_type": "code",
   "execution_count": null,
   "metadata": {},
   "outputs": [],
   "source": [
    "new_sim_time = 500\n",
    "a.simulate(new_sim_time)"
   ]
  },
  {
   "cell_type": "markdown",
   "metadata": {},
   "source": [
    "Visualizing output, verifying convergence"
   ]
  },
  {
   "cell_type": "code",
   "execution_count": null,
   "metadata": {},
   "outputs": [],
   "source": [
    "\n",
    "outputs = a.get_output_activations()[0]\n",
    "fig, ax = plt.subplots()\n",
    "t = np.arange(sim_time + new_sim_time + train_time + 1)\n",
    "plt.plot(t, outputs)\n",
    "plt.plot(t, f(t))\n",
    "plt.xlim(sim_time + train_time, sim_time + new_sim_time + train_time + 1)\n",
    "plt.ylim(-1.2, 1.2)\n",
    "plt.show()"
   ]
  },
  {
   "cell_type": "markdown",
   "metadata": {},
   "source": [
    "Saving network"
   ]
  },
  {
   "cell_type": "code",
   "execution_count": null,
   "metadata": {},
   "outputs": [],
   "source": [
    "with open('saved_nets/sin_and_sawtooth.RNN', 'wb') as RNN_file:\n",
    "    pickle.dump(a, RNN_file)"
   ]
  },
  {
   "cell_type": "markdown",
   "metadata": {},
   "source": [
    "Code example for loaing the network"
   ]
  },
  {
   "cell_type": "code",
   "execution_count": null,
   "metadata": {},
   "outputs": [],
   "source": [
    "def feedback(x):\n",
    "    if x.timestep < 10:\n",
    "        return 0\n",
    "    else:\n",
    "        output = x.output_node_list[0]\n",
    "        activation = output.get_activation(x.timestep - 10)\n",
    "        return 1.3 * np.tanh(np.sin(np.pi * activation))\n",
    "    \n",
    "f = lambda t : .5 * sp.sawtooth(2 * np.pi * 1/100 * t, width = 0.5) + .5 * np.sin(2 * np.pi * 1/50 * t + np.pi/4)\n",
    "\n",
    "with open('saved_nets/sin_and_sawtooth.RNN', 'rb') as RNN_file:\n",
    "    loaded_RNN = pickle.load(RNN_file)"
   ]
  },
  {
   "cell_type": "markdown",
   "metadata": {},
   "source": [
    "### Sawtooth"
   ]
  },
  {
   "cell_type": "markdown",
   "metadata": {},
   "source": [
    "Defining RNN, code is same as previous example"
   ]
  },
  {
   "cell_type": "code",
   "execution_count": null,
   "metadata": {},
   "outputs": [],
   "source": [
    "edges = np.asarray(G.edges())\n",
    "g = 1.5\n",
    "edges = np.array(edges).astype('int32')\n",
    "init_activations = np.random.uniform(-1, 1, num_nodes)\n",
    "internal_weights = np.random.normal(0, g * 1/np.sqrt(num_nodes * P_connection), edges.shape[0])\n",
    "output_weights = np.random.normal(0, .01, (1, num_nodes))\n",
    "def feedback(x):\n",
    "    if x.timestep < 10:\n",
    "        return 0\n",
    "    else:\n",
    "        output = x.output_node_list[0]\n",
    "        activation = output.get_activation(x.timestep - 10)\n",
    "        return 1.3 * np.tanh(np.sin(np.pi * activation))\n",
    "\n",
    "feedback_weights = np.random.normal(0, .5, (1, num_nodes))\n",
    "\n",
    "a = RNN(num_nodes, init_activations, edges, internal_weights,\n",
    "        1, output_weights,\n",
    "        recurrent_weight = .8, feedback_funcs = [feedback],\n",
    "        feedback_weights = feedback_weights)"
   ]
  },
  {
   "cell_type": "code",
   "execution_count": null,
   "metadata": {},
   "outputs": [],
   "source": [
    "sim_time = 250\n",
    "a.simulate(sim_time)\n",
    "print(a.internal_weights.shape)"
   ]
  },
  {
   "cell_type": "code",
   "execution_count": null,
   "metadata": {},
   "outputs": [],
   "source": [
    "outputs = a.get_output_activations()[0]\n",
    "fig, ax = plt.subplots()\n",
    "plt.plot(range(sim_time + 1), outputs)\n",
    "plt.show()"
   ]
  },
  {
   "cell_type": "code",
   "execution_count": null,
   "metadata": {},
   "outputs": [],
   "source": [
    "node_activations = a.get_internal_node_activations()\n",
    "for i in range(10):\n",
    "    fig, ax = plt.subplots()\n",
    "    plt.plot(range(sim_time + 1), node_activations[i])\n",
    "    plt.show()"
   ]
  },
  {
   "cell_type": "code",
   "execution_count": null,
   "metadata": {},
   "outputs": [],
   "source": [
    "train_time = int(1000)\n",
    "f = lambda t : sp.sawtooth(2 * np.pi * 1/100 * t, width = 0.5)\n",
    "a.FORCE_train(train_time, f, alpha = 100, timesteps_per_update = 1,\n",
    "             train_weights = {'internal' : False, 'input' : False, \n",
    "                              'output' : True, 'feedback' : True})\n",
    "print(a.internal_weights.shape)"
   ]
  },
  {
   "cell_type": "code",
   "execution_count": null,
   "metadata": {},
   "outputs": [],
   "source": [
    "outputs = a.get_output_activations()\n",
    "for i in range(1):\n",
    "    fig, ax = plt.subplots()\n",
    "    time = np.array(range(train_time + sim_time + 1))\n",
    "    plt.plot(time, outputs[i])\n",
    "    plt.plot(time, f(time))\n",
    "    plt.xlabel(\"time\")\n",
    "    plt.ylim(-1.2, 1.2)\n",
    "    plt.ylabel(\"Output Before and After Training\")\n",
    "    plt.show()\n"
   ]
  },
  {
   "cell_type": "code",
   "execution_count": null,
   "metadata": {},
   "outputs": [],
   "source": [
    "new_sim_time = 500\n",
    "a.simulate(new_sim_time)"
   ]
  },
  {
   "cell_type": "code",
   "execution_count": null,
   "metadata": {},
   "outputs": [],
   "source": [
    "\n",
    "outputs = a.get_output_activations()[0]\n",
    "\n",
    "fig, ax = plt.subplots()\n",
    "t = np.arange(sim_time + new_sim_time + train_time + 1)\n",
    "plt.plot(t, outputs)\n",
    "plt.plot(t, f(t))\n",
    "plt.xlim(sim_time + train_time, sim_time + new_sim_time + train_time + 1)\n",
    "plt.ylim(-1.2, 1.2)\n",
    "plt.show()"
   ]
  },
  {
   "cell_type": "code",
   "execution_count": null,
   "metadata": {},
   "outputs": [],
   "source": [
    "with open('saved_nets/sawtooth.RNN', 'wb') as RNN_file:\n",
    "    pickle.dump(a, RNN_file)"
   ]
  },
  {
   "cell_type": "code",
   "execution_count": null,
   "metadata": {},
   "outputs": [],
   "source": [
    "def feedback(x):\n",
    "    if x.timestep < 10:\n",
    "        return 0\n",
    "    else:\n",
    "        output = x.output_node_list[0]\n",
    "        activation = output.get_activation(x.timestep - 10)\n",
    "        return 1.3 * np.tanh(np.sin(np.pi * activation))\n",
    "    \n",
    "f = lambda t : sp.sawtooth(2 * np.pi * 1/100 * t, width = 0.5)\n",
    "\n",
    "with open('saved_nets/sawtooth.RNN', 'rb') as RNN_file:\n",
    "    loaded_RNN = pickle.load(RNN_file)"
   ]
  },
  {
   "cell_type": "code",
   "execution_count": null,
   "metadata": {},
   "outputs": [],
   "source": []
  }
 ],
 "metadata": {
  "kernelspec": {
   "display_name": "Python 3",
   "language": "python",
   "name": "python3"
  },
  "language_info": {
   "codemirror_mode": {
    "name": "ipython",
    "version": 3
   },
   "file_extension": ".py",
   "mimetype": "text/x-python",
   "name": "python",
   "nbconvert_exporter": "python",
   "pygments_lexer": "ipython3",
   "version": "3.7.3"
  }
 },
 "nbformat": 4,
 "nbformat_minor": 2
}
