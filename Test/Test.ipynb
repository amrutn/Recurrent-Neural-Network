{
 "cells": [
  {
   "cell_type": "code",
   "execution_count": null,
   "metadata": {},
   "outputs": [],
   "source": [
    "import numpy as np\n",
    "import sys\n",
    "sys.path.insert(0, '..') #This line adds '..' to the path so we can import the net_framework python file\n",
    "from RNN_model import *\n",
    "import matplotlib.pyplot as plt\n",
    "import plotly.graph_objects as go\n",
    "import networkx as nx\n",
    "import scipy.signal as sp\n",
    "from scipy.integrate import odeint\n",
    "import random\n",
    "import pickle"
   ]
  },
  {
   "cell_type": "code",
   "execution_count": null,
   "metadata": {},
   "outputs": [],
   "source": [
    "#import importlib\n",
    "#importlib.reload(RNN_model)"
   ]
  },
  {
   "cell_type": "code",
   "execution_count": null,
   "metadata": {},
   "outputs": [],
   "source": [
    "import math\n",
    "\n",
    "# Start and end are lists defining start and end points\n",
    "# Edge x and y are lists used to construct the graph\n",
    "# arrowAngle and arrowLength define properties of the arrowhead\n",
    "# arrowPos is None, 'middle' or 'end' based on where on the edge you want the arrow to appear\n",
    "# arrowLength is the length of the arrowhead\n",
    "# arrowAngle is the angle in degrees that the arrowhead makes with the edge\n",
    "# dotSize is the plotly scatter dot size you are using (used to even out line spacing when you have a mix of edge lengths)\n",
    "def addEdge(start, end, edge_x, edge_y, lengthFrac=1, arrowPos = None, arrowLength=0.025, arrowAngle = 30, dotSize=20):\n",
    "    \n",
    "    # Get start and end cartesian coordinates\n",
    "    x0, y0 = start\n",
    "    x1, y1 = end\n",
    "    \n",
    "    # Incorporate the fraction of this segment covered by a dot into total reduction\n",
    "    length = math.sqrt( (x1-x0)**2 + (y1-y0)**2 )\n",
    "    dotSizeConversion = .0565/20 # length units per dot size\n",
    "    convertedDotDiameter = dotSize * dotSizeConversion\n",
    "    lengthFracReduction = convertedDotDiameter / length\n",
    "    lengthFrac = lengthFrac - lengthFracReduction\n",
    "    \n",
    "    # If the line segment should not cover the entire distance, get actual start and end coords\n",
    "    skipX = (x1-x0)*(1-lengthFrac)\n",
    "    skipY = (y1-y0)*(1-lengthFrac)\n",
    "    x0 = x0 + skipX/2\n",
    "    x1 = x1 - skipX/2\n",
    "    y0 = y0 + skipY/2\n",
    "    y1 = y1 - skipY/2\n",
    "    \n",
    "    # Append line corresponding to the edge\n",
    "    edge_x.append(x0)\n",
    "    edge_x.append(x1)\n",
    "    edge_x.append(None) # Prevents a line being drawn from end of this edge to start of next edge\n",
    "    edge_y.append(y0)\n",
    "    edge_y.append(y1)\n",
    "    edge_y.append(None)\n",
    "    \n",
    "    # Draw arrow\n",
    "    if not arrowPos == None:\n",
    "        \n",
    "        # Find the point of the arrow; assume is at end unless told middle\n",
    "        pointx = x1\n",
    "        pointy = y1\n",
    "        eta = math.degrees(math.atan((x1-x0)/(y1-y0)))\n",
    "        \n",
    "        if arrowPos == 'middle' or arrowPos == 'mid':\n",
    "            pointx = x0 + (x1-x0)/2\n",
    "            pointy = y0 + (y1-y0)/2\n",
    "            \n",
    "        # Find the directions the arrows are pointing\n",
    "        signx = (x1-x0)/abs(x1-x0)\n",
    "        signy = (y1-y0)/abs(y1-y0)\n",
    "        \n",
    "        # Append first arrowhead\n",
    "        dx = arrowLength * math.sin(math.radians(eta + arrowAngle))\n",
    "        dy = arrowLength * math.cos(math.radians(eta + arrowAngle))    \n",
    "        edge_x.append(pointx)\n",
    "        edge_x.append(pointx - signx**2 * signy * dx)\n",
    "        edge_x.append(None)\n",
    "        edge_y.append(pointy)\n",
    "        edge_y.append(pointy - signx**2 * signy * dy)\n",
    "        edge_y.append(None)\n",
    "        \n",
    "        # And second arrowhead\n",
    "        dx = arrowLength * math.sin(math.radians(eta - arrowAngle))\n",
    "        dy = arrowLength * math.cos(math.radians(eta - arrowAngle))    \n",
    "        edge_x.append(pointx)\n",
    "        edge_x.append(pointx - signx**2 * signy * dx)\n",
    "        edge_x.append(None)\n",
    "        edge_y.append(pointy)\n",
    "        edge_y.append(pointy - signx**2 * signy * dy)\n",
    "        edge_y.append(None)\n",
    "    \n",
    "    \n",
    "    return edge_x, edge_y"
   ]
  },
  {
   "cell_type": "code",
   "execution_count": null,
   "metadata": {
    "scrolled": false
   },
   "outputs": [],
   "source": [
    "num_nodes = 1000\n",
    "P_connection = 0.09\n",
    "G = nx.random_geometric_graph(num_nodes, P_connection)\n",
    "\n",
    "edge_x = []\n",
    "edge_y = []\n",
    "list_of_all_arrows = []\n",
    "edges = []\n",
    "for edge in G.edges():\n",
    "    edge = np.array(edge)\n",
    "    if np.random.uniform(-1, 1) > 0:\n",
    "        edge[0], edge[1] = edge[1], edge[0]\n",
    "    edges.append(edge)\n",
    "    x0, y0 = G.nodes[edge[0]]['pos']\n",
    "    \n",
    "    x1, y1 = G.nodes[edge[1]]['pos']\n",
    "    \n",
    "    addEdge((x0, y0), (x1, y1), edge_x, edge_y, arrowPos = 'middle', arrowLength = 0.01, dotSize = 0)\n",
    "edges = np.array(edges)\n",
    "edge_trace = go.Scatter(\n",
    "    x=edge_x, y=edge_y,\n",
    "    line=dict(width=1, color='#888'),\n",
    "    hoverinfo='none',\n",
    "    mode='lines')\n",
    "\n",
    "node_x = []\n",
    "node_y = []\n",
    "colors=[]\n",
    "widths = []\n",
    "for node in G.nodes():\n",
    "    x, y = G.nodes[node]['pos']\n",
    "    node_x.append(x)\n",
    "    node_y.append(y)\n",
    "    if node == 0:\n",
    "        colors.append('black')\n",
    "        widths.append(10)\n",
    "    else:\n",
    "        colors.append('black')\n",
    "        widths.append(3)\n",
    "node_trace = go.Scatter(\n",
    "    x=node_x, y=node_y,\n",
    "    mode='markers',\n",
    "    hoverinfo='text',\n",
    "    marker=dict(\n",
    "        #showscale=True,\n",
    "        # colorscale options\n",
    "        #'Greys' | 'YlGnBu' | 'Greens' | 'YlOrRd' | 'Bluered' | 'RdBu' |\n",
    "        #'Reds' | 'Blues' | 'Picnic' | 'Rainbow' | 'Portland' | 'Jet' |\n",
    "        #'Hot' | 'Blackbody' | 'Earth' | 'Electric' | 'Viridis' |\n",
    "        #colorscale='YlGnBu',\n",
    "        #reversescale=True,\n",
    "        color=[],\n",
    "        size=13,\n",
    "        line=dict(width=widths, color = colors)\n",
    "    ))\n",
    "node_nums= []\n",
    "node_text = []\n",
    "for node, adjacencies in enumerate(G.adjacency()):\n",
    "    node_nums.append(node)\n",
    "    node_text.append('Node #: '+str(node))\n",
    "\n",
    "#node_trace.marker.color = node_adjacencies\n",
    "node_trace.text = node_text\n",
    "\n",
    "fig = go.Figure(data=[edge_trace, node_trace],\n",
    "             layout=go.Layout(\n",
    "                showlegend=False,\n",
    "                hovermode='closest',\n",
    "                margin=dict(b=20,l=5,r=5,t=40),\n",
    "                annotations=[ dict(\n",
    "                    text=\"\",\n",
    "                    showarrow=False,\n",
    "                    xref=\"paper\", yref=\"paper\",\n",
    "                    x=0.005, y=-0.002 ) ],\n",
    "                xaxis=dict(showgrid=False, zeroline=False, showticklabels=False),\n",
    "                yaxis=dict(showgrid=False, zeroline=False, showticklabels=False))\n",
    "                )\n",
    "\n",
    "fig.show()"
   ]
  },
  {
   "cell_type": "markdown",
   "metadata": {},
   "source": [
    "Sin + Sawtooth"
   ]
  },
  {
   "cell_type": "code",
   "execution_count": null,
   "metadata": {},
   "outputs": [],
   "source": [
    "print(edges.shape)\n",
    "g = 1.5\n",
    "edges = np.array(edges).astype('int32')\n",
    "init_activations = np.random.uniform(-1, 1, num_nodes)\n",
    "internal_weights = np.random.normal(0, g * 1/np.sqrt(num_nodes * P_connection), edges.shape[0])\n",
    "output_weights = np.random.normal(0, .01, (1, num_nodes))\n",
    "def feedback(x):\n",
    "    if x.timestep < 10:\n",
    "        return 0\n",
    "    else:\n",
    "        output = x.output_node_list[0]\n",
    "        activation = output.get_activation(x.timestep - 10)\n",
    "        return 1.3 * np.tanh(np.sin(np.pi * activation))\n",
    "\n",
    "feedback_weights = np.random.normal(0, .5, (1, num_nodes))\n",
    "\n",
    "a = RNN(num_nodes, init_activations, edges, internal_weights,\n",
    "        1, output_weights,\n",
    "        recurrent_weight = .8, feedback_funcs = [feedback],\n",
    "        feedback_weights = feedback_weights)"
   ]
  },
  {
   "cell_type": "code",
   "execution_count": null,
   "metadata": {},
   "outputs": [],
   "source": [
    "sim_time = int(250)\n",
    "a.simulate(sim_time)\n",
    "print(a.internal_weights.shape)"
   ]
  },
  {
   "cell_type": "code",
   "execution_count": null,
   "metadata": {
    "scrolled": true
   },
   "outputs": [],
   "source": [
    "outputs = a.get_output_activations()\n",
    "for i in range(1):\n",
    "    fig, ax = plt.subplots()\n",
    "    plt.plot(range(sim_time + 1), outputs[i])\n",
    "    plt.show()"
   ]
  },
  {
   "cell_type": "code",
   "execution_count": null,
   "metadata": {
    "scrolled": true
   },
   "outputs": [],
   "source": [
    "node_activations = a.get_internal_node_activations()\n",
    "for i in range(10):\n",
    "    fig, ax = plt.subplots()\n",
    "    plt.plot(range(sim_time + 1), node_activations[i])\n",
    "    plt.show()"
   ]
  },
  {
   "cell_type": "code",
   "execution_count": null,
   "metadata": {
    "scrolled": true
   },
   "outputs": [],
   "source": [
    "train_time = int(3000)\n",
    "f = lambda t : .5 * sp.sawtooth(2 * np.pi * 1/100 * t, width = 0.5) + .5 * np.sin(2 * np.pi * 1/50 * t + np.pi/4)\n",
    "a.FORCE_train(train_time, f, alpha = 100, timesteps_per_update = 1,\n",
    "             train_weights = {'internal' : False, 'input' : False, \n",
    "                              'output' : True, 'feedback' : True})\n",
    "print(a.internal_weights.shape)"
   ]
  },
  {
   "cell_type": "code",
   "execution_count": null,
   "metadata": {},
   "outputs": [],
   "source": [
    "outputs = a.get_output_activations()\n",
    "for i in range(1):\n",
    "    fig, ax = plt.subplots()\n",
    "    time = np.array(range(train_time + sim_time + 1))\n",
    "    plt.plot(time, outputs[i])\n",
    "    plt.plot(time, f(time))\n",
    "    plt.xlabel(\"time\")\n",
    "    plt.ylim(-1.2, 1.2)\n",
    "    plt.ylabel(\"Output Before and After Training\")\n",
    "    plt.show()\n"
   ]
  },
  {
   "cell_type": "code",
   "execution_count": null,
   "metadata": {},
   "outputs": [],
   "source": [
    "node_activations = a.get_internal_node_activations()\n",
    "for i in range(10):\n",
    "    fig, ax = plt.subplots()\n",
    "    plt.plot(range(sim_time + train_time + 1), node_activations[i])\n",
    "    plt.show()"
   ]
  },
  {
   "cell_type": "code",
   "execution_count": null,
   "metadata": {},
   "outputs": [],
   "source": [
    "plt.plot(range(len(a.weight_history) - 1), [np.mean(np.absolute(np.array(a.weight_history[i + 1]) - np.array(a.weight_history[i]))) for i in range(len(a.weight_history) - 1)])\n",
    "print(a.weight_history[1])\n",
    "plt.xlabel(\"Weight Update Number\")\n",
    "plt.ylabel(\"Amout weight was changed\")"
   ]
  },
  {
   "cell_type": "code",
   "execution_count": null,
   "metadata": {},
   "outputs": [],
   "source": [
    "new_sim_time = 500\n",
    "a.simulate(new_sim_time)"
   ]
  },
  {
   "cell_type": "code",
   "execution_count": null,
   "metadata": {},
   "outputs": [],
   "source": [
    "\n",
    "outputs = a.get_output_activations()\n",
    "for i in range(1):\n",
    "    fig, ax = plt.subplots()\n",
    "    t = np.arange(sim_time + new_sim_time + train_time + 1)\n",
    "    plt.plot(t, outputs[i][:sim_time + new_sim_time + train_time + 1])\n",
    "    plt.plot(t, f(t))\n",
    "    plt.xlim(sim_time + train_time, sim_time + new_sim_time + train_time + 1)\n",
    "    plt.ylim(-1.2, 1.2)\n",
    "    plt.show()"
   ]
  },
  {
   "cell_type": "code",
   "execution_count": null,
   "metadata": {},
   "outputs": [],
   "source": [
    "with open('saved_nets/sin_and_sawtooth.RNN', 'wb') as RNN_file:\n",
    "    pickle.dump(a, RNN_file)"
   ]
  },
  {
   "cell_type": "code",
   "execution_count": null,
   "metadata": {},
   "outputs": [],
   "source": [
    "def feedback(x):\n",
    "    if x.timestep < 10:\n",
    "        return 0\n",
    "    else:\n",
    "        output = x.output_node_list[0]\n",
    "        activation = output.get_activation(x.timestep - 10)\n",
    "        return 1.3 * np.tanh(np.sin(np.pi * activation))\n",
    "    \n",
    "f = lambda t : .5 * sp.sawtooth(2 * np.pi * 1/100 * t, width = 0.5) + .5 * np.sin(2 * np.pi * 1/50 * t + np.pi/4)\n",
    "\n",
    "with open('saved_nets/sin_and_sawtooth.RNN', 'rb') as RNN_file:\n",
    "    loaded_RNN = pickle.load(RNN_file)"
   ]
  },
  {
   "cell_type": "code",
   "execution_count": null,
   "metadata": {},
   "outputs": [],
   "source": [
    "\n",
    "\n",
    "outputs = loaded_RNN.get_output_activations()\n",
    "fig, ax = plt.subplots()\n",
    "t = np.arange(3751)\n",
    "plt.plot(t, outputs[0])\n",
    "plt.plot(t, f(t))\n",
    "plt.xlim(3000,3751)\n",
    "plt.ylim(-1.2, 1.2)\n",
    "plt.show()"
   ]
  },
  {
   "cell_type": "markdown",
   "metadata": {},
   "source": [
    "Sawtooth"
   ]
  },
  {
   "cell_type": "code",
   "execution_count": null,
   "metadata": {},
   "outputs": [],
   "source": [
    "print(edges.shape)\n",
    "g = 1.5\n",
    "edges = np.array(edges).astype('int32')\n",
    "init_activations = np.random.uniform(-1, 1, num_nodes)\n",
    "internal_weights = np.random.normal(0, g * 1/np.sqrt(num_nodes * P_connection), edges.shape[0])\n",
    "output_weights = np.random.normal(0, .01, (1, num_nodes))\n",
    "def feedback(x):\n",
    "    if x.timestep < 10:\n",
    "        return 0\n",
    "    else:\n",
    "        output = x.output_node_list[0]\n",
    "        activation = output.get_activation(x.timestep - 10)\n",
    "        return 1.3 * np.tanh(np.sin(np.pi * activation))\n",
    "\n",
    "feedback_weights = np.random.normal(0, .5, (1, num_nodes))\n",
    "\n",
    "a = RNN(num_nodes, init_activations, edges, internal_weights,\n",
    "        1, output_weights,\n",
    "        recurrent_weight = .8, feedback_funcs = [feedback],\n",
    "        feedback_weights = feedback_weights)"
   ]
  },
  {
   "cell_type": "code",
   "execution_count": null,
   "metadata": {},
   "outputs": [],
   "source": [
    "sim_time = int(250)\n",
    "a.simulate(sim_time)\n",
    "print(a.internal_weights.shape)"
   ]
  },
  {
   "cell_type": "code",
   "execution_count": null,
   "metadata": {},
   "outputs": [],
   "source": [
    "outputs = a.get_output_activations()\n",
    "for i in range(1):\n",
    "    fig, ax = plt.subplots()\n",
    "    plt.plot(range(sim_time + 1), outputs[i])\n",
    "    plt.show()"
   ]
  },
  {
   "cell_type": "code",
   "execution_count": null,
   "metadata": {},
   "outputs": [],
   "source": [
    "node_activations = a.get_internal_node_activations()\n",
    "for i in range(10):\n",
    "    fig, ax = plt.subplots()\n",
    "    plt.plot(range(sim_time + 1), node_activations[i])\n",
    "    plt.show()"
   ]
  },
  {
   "cell_type": "code",
   "execution_count": null,
   "metadata": {},
   "outputs": [],
   "source": [
    "train_time = int(1000)\n",
    "f = lambda t : sp.sawtooth(2 * np.pi * 1/100 * t, width = 0.5)\n",
    "a.FORCE_train(train_time, f, alpha = 100, timesteps_per_update = 1,\n",
    "             train_weights = {'internal' : False, 'input' : False, \n",
    "                              'output' : True, 'feedback' : True})\n",
    "print(a.internal_weights.shape)"
   ]
  },
  {
   "cell_type": "code",
   "execution_count": null,
   "metadata": {},
   "outputs": [],
   "source": [
    "outputs = a.get_output_activations()\n",
    "for i in range(1):\n",
    "    fig, ax = plt.subplots()\n",
    "    time = np.array(range(train_time + sim_time + 1))\n",
    "    plt.plot(time, outputs[i])\n",
    "    plt.plot(time, f(time))\n",
    "    plt.xlabel(\"time\")\n",
    "    plt.ylim(-1.2, 1.2)\n",
    "    plt.ylabel(\"Output Before and After Training\")\n",
    "    plt.show()\n"
   ]
  },
  {
   "cell_type": "code",
   "execution_count": null,
   "metadata": {},
   "outputs": [],
   "source": [
    "new_sim_time = 500\n",
    "a.simulate(new_sim_time)"
   ]
  },
  {
   "cell_type": "code",
   "execution_count": null,
   "metadata": {},
   "outputs": [],
   "source": [
    "\n",
    "outputs = a.get_output_activations()\n",
    "for i in range(1):\n",
    "    fig, ax = plt.subplots()\n",
    "    t = np.arange(sim_time + new_sim_time + train_time + 1)\n",
    "    plt.plot(t, outputs[i][:sim_time + new_sim_time + train_time + 1])\n",
    "    plt.plot(t, f(t))\n",
    "    plt.xlim(sim_time + train_time, sim_time + new_sim_time + train_time + 1)\n",
    "    plt.ylim(-1.2, 1.2)\n",
    "    plt.show()"
   ]
  },
  {
   "cell_type": "code",
   "execution_count": null,
   "metadata": {},
   "outputs": [],
   "source": [
    "with open('saved_nets/sawtooth.RNN', 'wb') as RNN_file:\n",
    "    pickle.dump(a, RNN_file)"
   ]
  },
  {
   "cell_type": "code",
   "execution_count": null,
   "metadata": {},
   "outputs": [],
   "source": [
    "def feedback(x):\n",
    "    if x.timestep < 10:\n",
    "        return 0\n",
    "    else:\n",
    "        output = x.output_node_list[0]\n",
    "        activation = output.get_activation(x.timestep - 10)\n",
    "        return 1.3 * np.tanh(np.sin(np.pi * activation))\n",
    "    \n",
    "f = lambda t : sp.sawtooth(2 * np.pi * 1/100 * t, width = 0.5)\n",
    "\n",
    "with open('saved_nets/sawtooth.RNN', 'rb') as RNN_file:\n",
    "    loaded_RNN = pickle.load(RNN_file)"
   ]
  },
  {
   "cell_type": "code",
   "execution_count": null,
   "metadata": {},
   "outputs": [],
   "source": [
    "\n",
    "\n",
    "outputs = loaded_RNN.get_output_activations()\n",
    "fig, ax = plt.subplots()\n",
    "t = np.arange(1751)\n",
    "plt.plot(t, outputs[0])\n",
    "plt.plot(t, f(t))\n",
    "plt.xlim(1251,1751)\n",
    "plt.ylim(-1.2, 1.2)\n",
    "plt.show()"
   ]
  },
  {
   "cell_type": "code",
   "execution_count": null,
   "metadata": {},
   "outputs": [],
   "source": []
  }
 ],
 "metadata": {
  "kernelspec": {
   "display_name": "Python 3",
   "language": "python",
   "name": "python3"
  },
  "language_info": {
   "codemirror_mode": {
    "name": "ipython",
    "version": 3
   },
   "file_extension": ".py",
   "mimetype": "text/x-python",
   "name": "python",
   "nbconvert_exporter": "python",
   "pygments_lexer": "ipython3",
   "version": "3.7.3"
  }
 },
 "nbformat": 4,
 "nbformat_minor": 2
}
