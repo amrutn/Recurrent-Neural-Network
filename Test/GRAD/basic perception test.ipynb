{
 "cells": [
  {
   "cell_type": "code",
   "execution_count": 1,
   "metadata": {},
   "outputs": [],
   "source": [
    "import numpy as np\n",
    "import sys\n",
    "sys.path.insert(0, '../..') #This line adds '../..' to the path so we can import the net_framework python file\n",
    "from RNN_model_GRAD import *\n",
    "import matplotlib.pyplot as plt\n",
    "import tensorflow as tf\n",
    "from tensorflow import keras\n",
    "try:\n",
    "    import ujson as json\n",
    "except ImportError:\n",
    "    import json"
   ]
  },
  {
   "cell_type": "markdown",
   "metadata": {},
   "source": [
    "Having trained the network weights on the remote computer, and loading the weights"
   ]
  },
  {
   "cell_type": "code",
   "execution_count": 3,
   "metadata": {},
   "outputs": [],
   "source": [
    "with open('weight_history.json') as f:\n",
    "    weight_history = json.load(f)"
   ]
  },
  {
   "cell_type": "code",
   "execution_count": 6,
   "metadata": {},
   "outputs": [
    {
     "data": {
      "text/plain": [
       "dict_keys(['noise weights', 'bias', 'input weights', 'connectivity matrix', 'input=.2', 'input=.8', 'input high to low', 'input low to high'])"
      ]
     },
     "execution_count": 6,
     "metadata": {},
     "output_type": "execute_result"
    }
   ],
   "source": [
    "weight_history.keys()"
   ]
  },
  {
   "cell_type": "markdown",
   "metadata": {},
   "source": [
    "Defining weights of the network. Final trained weights are in final_weights"
   ]
  },
  {
   "cell_type": "code",
   "execution_count": 13,
   "metadata": {},
   "outputs": [],
   "source": [
    "noise_weights = np.array(weight_history['noise weights'])\n",
    "bias_weights = np.array(weight_history['bias'])\n",
    "input_weights = np.array(weight_history['input weights'])\n",
    "output_weight_matrix = np.array(weight_history['output weights'])\n",
    "connectivity_matrix = np.array(weight_history['connectivity matrix'])\n",
    "final_weights = np.array(weight_history['input low to high'][-1])"
   ]
  },
  {
   "cell_type": "code",
   "execution_count": 15,
   "metadata": {},
   "outputs": [],
   "source": [
    "num_nodes = 128\n",
    "time_constant = 100 #ms\n",
    "timestep = 10 #ms\n",
    "noise_strength = .01\n",
    "\n",
    "weight_matrix = tf.Variable(final_weights)\n",
    "connectivity_matrix = tf.constant(connectivity_matrix)\n",
    "\n",
    "input_weight_matrix = tf.constant(np.vstack((bias_weights, noise_weights, input_weights)))\n",
    "\n",
    "def rule_input(time):\n",
    "    #No input for now\n",
    "    return 0\n",
    "    \n",
    "def bias(time):\n",
    "    return 1\n",
    "def noise(time):\n",
    "    return np.sqrt(2 * time_constant/timestep) * noise_strength * np.random.normal(0, 1)\n",
    "\n",
    "\n",
    "input_funcs = [bias, noise, rule_input]\n",
    "\n",
    "init_activations = tf.constant(np.zeros((num_nodes, 1)))\n",
    "output_weight_matrix = tf.constant(output_weight_matrix)\n",
    "        \n",
    "network = RNN(weight_matrix, connectivity_matrix, init_activations, output_weight_matrix, time_constant = time_constant,\n",
    "             timestep = timestep,activation_func = keras.activations.relu, output_nonlinearity = lambda x : x)"
   ]
  },
  {
   "cell_type": "markdown",
   "metadata": {},
   "source": [
    "Simulating Network Output"
   ]
  },
  {
   "cell_type": "code",
   "execution_count": 16,
   "metadata": {},
   "outputs": [
    {
     "name": "stderr",
     "output_type": "stream",
     "text": [
      "100%|███████████████████████████████████████████████████████████████████████████████| 500/500 [00:00<00:00, 595.45it/s]\n"
     ]
    },
    {
     "data": {
      "image/png": "[encoded data removed]",
      "text/plain": [
       "<Figure size 432x288 with 1 Axes>"
      ]
     },
     "metadata": {
      "needs_background": "light"
     },
     "output_type": "display_data"
    }
   ],
   "source": [
    "time = 5000 #ms\n",
    "inputs = network.convert(time, input_funcs)\n",
    "outputs, activations = network.simulate(time, inputs, input_weight_matrix)\n",
    "\n",
    "outputs = tf.transpose(outputs).numpy()[0]\n",
    "fig, ax = plt.subplots()\n",
    "plt.plot(range(len(outputs)), outputs)\n",
    "plt.show()"
   ]
  },
  {
   "cell_type": "markdown",
   "metadata": {},
   "source": [
    "Now, simulating network activity to ensure that it works."
   ]
  },
  {
   "cell_type": "code",
   "execution_count": 23,
   "metadata": {},
   "outputs": [
    {
     "name": "stderr",
     "output_type": "stream",
     "text": [
      "100%|███████████████████████████████████████████████████████████████████████████████| 500/500 [00:00<00:00, 538.67it/s]\n"
     ]
    }
   ],
   "source": [
    "network.reset_activations()\n",
    "def rule_input(time):\n",
    "    #running for 5 seconds = 5000ms\n",
    "    return .2 + np.random.normal(0, .05)\n",
    "def target_func(time):\n",
    "    #running for 5 seconds = 5000ms\n",
    "    #Reverse of rule_input\n",
    "    return .2\n",
    "\n",
    "targets = network.convert(time, [target_func])\n",
    "input_funcs[2] = rule_input\n",
    "inputs = network.convert(time, input_funcs)\n",
    "\n",
    "outputs, activations = network.simulate(time, inputs, input_weight_matrix)"
   ]
  },
  {
   "cell_type": "code",
   "execution_count": 24,
   "metadata": {},
   "outputs": [
    {
     "data": {
      "image/png": "[encoded data removed]",
      "text/plain": [
       "<Figure size 432x288 with 1 Axes>"
      ]
     },
     "metadata": {
      "needs_background": "light"
     },
     "output_type": "display_data"
    }
   ],
   "source": [
    "\n",
    "outputs = tf.transpose(outputs).numpy()[0]\n",
    "\n",
    "fig, ax = plt.subplots()\n",
    "plt.plot(range(len(outputs)), outputs)\n",
    "plt.plot(range(len(outputs)), [target_func(t * timestep) for t in range(len(outputs))])\n",
    "plt.show()"
   ]
  },
  {
   "cell_type": "code",
   "execution_count": null,
   "metadata": {},
   "outputs": [],
   "source": [
    "activations = np.asarray(activations)\n",
    "for i in range(4):\n",
    "    fig, ax = plt.subplots()\n",
    "    plt.plot(range(len(activations[:,i])), activations[:,i])\n",
    "    plt.show()"
   ]
  },
  {
   "cell_type": "code",
   "execution_count": null,
   "metadata": {},
   "outputs": [],
   "source": []
  }
 ],
 "metadata": {
  "kernelspec": {
   "display_name": "Python 3",
   "language": "python",
   "name": "python3"
  },
  "language_info": {
   "codemirror_mode": {
    "name": "ipython",
    "version": 3
   },
   "file_extension": ".py",
   "mimetype": "text/x-python",
   "name": "python",
   "nbconvert_exporter": "python",
   "pygments_lexer": "ipython3",
   "version": "3.7.3"
  }
 },
 "nbformat": 4,
 "nbformat_minor": 2
}
