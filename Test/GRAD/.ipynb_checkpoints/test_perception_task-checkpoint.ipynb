{
 "cells": [
  {
   "cell_type": "code",
   "execution_count": 1,
   "metadata": {},
   "outputs": [],
   "source": [
    "import numpy as np\n",
    "import sys\n",
    "sys.path.insert(0, '../..') #This line adds '../..' to the path so we can import the net_framework python file\n",
    "from RNN_model_GRAD import *\n",
    "import matplotlib.pyplot as plt\n",
    "import networkx as nx\n",
    "import scipy.signal as sp\n",
    "import random\n",
    "import pickle\n",
    "import tensorflow as tf\n",
    "from tensorflow import keras"
   ]
  },
  {
   "cell_type": "code",
   "execution_count": 21,
   "metadata": {},
   "outputs": [],
   "source": [
    "num_nodes = 256\n",
    "time_constant = 100 #ms\n",
    "timestep = 10 #ms\n",
    "noise_strength = .01\n",
    "q = .5\n",
    "num_inputs = 1\n",
    " \n",
    "weight_matrix = tf.Variable(q * np.identity(num_nodes))\n",
    "connectivity_matrix = np.ones((num_nodes, num_nodes))\n",
    "weight_matrix = np.random.normal(0, 1/np.sqrt(num_nodes), (num_nodes, num_nodes))\n",
    "for i in range(num_nodes):\n",
    "    weight_matrix[i,i] = 0\n",
    "    connectivity_matrix[i,i] = 0\n",
    "weight_matrix = tf.Variable(weight_matrix)\n",
    "connectivity_matrix = tf.constant(connectivity_matrix)\n",
    "noise_weights = 0 * np.ones(num_nodes)\n",
    "bias_weights = 0 * np.ones(num_nodes)\n",
    "input_weights = np.random.normal(0, 1/np.sqrt(num_inputs), num_nodes)\n",
    "\n",
    "#input_weight_matrix = tf.constant(np.vstack((bias_weights, noise_weights, input_weights)).T)\n",
    "input_weight_matrix = tf.constant(np.random.normal(0, 1/np.sqrt(num_inputs), (num_nodes, 1)))\n",
    "\n",
    "def rule_input(time):\n",
    "    #running for 5 seconds = 5000ms, input switches between 1 and 0 every second\n",
    "    if time//1000 % 2 == 0:\n",
    "        return .2\n",
    "    else:\n",
    "        return .8\n",
    "def target_func(time):\n",
    "    #running for 5 seconds = 5000ms, input switches between .2 and .8 every second.\n",
    "    if time//1000 % 2 == 0:\n",
    "        return .8\n",
    "    else:\n",
    "        return .2\n",
    "    \n",
    "def bias(time):\n",
    "    return 1\n",
    "def noise(time):\n",
    "    return np.sqrt(2 * time_constant/timestep) * noise_strength * np.random.normal(0, 1)\n",
    "\n",
    "\n",
    "input_funcs = [rule_input]\n",
    "\n",
    "init_activations = tf.constant(np.zeros((num_nodes, 1)))\n",
    "output_weight_matrix = tf.constant(np.random.uniform(0, 1/np.sqrt(num_nodes), (1, num_nodes)))\n",
    "        \n",
    "network = RNN(weight_matrix, connectivity_matrix, init_activations, output_weight_matrix, time_constant = time_constant,\n",
    "             timestep = timestep,activation_func = keras.activations.relu, output_nonlinearity = lambda x : x)"
   ]
  },
  {
   "cell_type": "code",
   "execution_count": 22,
   "metadata": {},
   "outputs": [
    {
     "name": "stderr",
     "output_type": "stream",
     "text": [
      "100%|███████████████████████████████████████████████████████████████████████████████| 500/500 [00:00<00:00, 735.96it/s]\n"
     ]
    },
    {
     "data": {
      "image/png": "[encoded data removed]",
      "text/plain": [
       "<Figure size 432x288 with 1 Axes>"
      ]
     },
     "metadata": {
      "needs_background": "light"
     },
     "output_type": "display_data"
    }
   ],
   "source": [
    "time = 5000 #ms\n",
    "outputs, activations = network.simulate(time, input_funcs, input_weight_matrix)\n",
    "\n",
    "outputs = tf.transpose(outputs).numpy()[0]\n",
    "fig, ax = plt.subplots()\n",
    "plt.plot(range(len(outputs)), outputs)\n",
    "#plt.plot(range(len(outputs)), [target_func(t * timestep) for t in range(len(outputs))])\n",
    "plt.show()"
   ]
  },
  {
   "cell_type": "code",
   "execution_count": 23,
   "metadata": {
    "scrolled": true
   },
   "outputs": [
    {
     "name": "stderr",
     "output_type": "stream",
     "text": [
      "\r",
      "  0%|                                                                                          | 0/500 [00:00<?, ?it/s]"
     ]
    },
    {
     "name": "stdout",
     "output_type": "stream",
     "text": [
      "The loss is: tf.Tensor(0.22917518, shape=(), dtype=float32) at iteration 0\n"
     ]
    },
    {
     "name": "stderr",
     "output_type": "stream",
     "text": [
      " 10%|████████                                                                         | 50/500 [01:15<14:12,  1.89s/it]"
     ]
    },
    {
     "name": "stdout",
     "output_type": "stream",
     "text": [
      "The loss is: tf.Tensor(0.11233489, shape=(), dtype=float32) at iteration 50\n"
     ]
    },
    {
     "name": "stderr",
     "output_type": "stream",
     "text": [
      " 20%|████████████████                                                                | 100/500 [02:22<08:40,  1.30s/it]"
     ]
    },
    {
     "name": "stdout",
     "output_type": "stream",
     "text": [
      "The loss is: tf.Tensor(0.090934075, shape=(), dtype=float32) at iteration 100\n"
     ]
    },
    {
     "name": "stderr",
     "output_type": "stream",
     "text": [
      " 30%|████████████████████████                                                        | 150/500 [03:28<07:25,  1.27s/it]"
     ]
    },
    {
     "name": "stdout",
     "output_type": "stream",
     "text": [
      "The loss is: tf.Tensor(0.07034, shape=(), dtype=float32) at iteration 150\n"
     ]
    },
    {
     "name": "stderr",
     "output_type": "stream",
     "text": [
      " 40%|████████████████████████████████                                                | 200/500 [04:37<06:54,  1.38s/it]"
     ]
    },
    {
     "name": "stdout",
     "output_type": "stream",
     "text": [
      "The loss is: tf.Tensor(0.06542837, shape=(), dtype=float32) at iteration 200\n"
     ]
    },
    {
     "name": "stderr",
     "output_type": "stream",
     "text": [
      " 50%|████████████████████████████████████████                                        | 250/500 [05:49<05:59,  1.44s/it]"
     ]
    },
    {
     "name": "stdout",
     "output_type": "stream",
     "text": [
      "The loss is: tf.Tensor(0.061563827, shape=(), dtype=float32) at iteration 250\n"
     ]
    },
    {
     "name": "stderr",
     "output_type": "stream",
     "text": [
      " 60%|████████████████████████████████████████████████                                | 300/500 [06:58<04:24,  1.32s/it]"
     ]
    },
    {
     "name": "stdout",
     "output_type": "stream",
     "text": [
      "The loss is: tf.Tensor(0.060172282, shape=(), dtype=float32) at iteration 300\n"
     ]
    },
    {
     "name": "stderr",
     "output_type": "stream",
     "text": [
      " 70%|████████████████████████████████████████████████████████                        | 350/500 [08:14<03:23,  1.36s/it]"
     ]
    },
    {
     "name": "stdout",
     "output_type": "stream",
     "text": [
      "The loss is: tf.Tensor(0.056877542, shape=(), dtype=float32) at iteration 350\n"
     ]
    },
    {
     "name": "stderr",
     "output_type": "stream",
     "text": [
      " 80%|████████████████████████████████████████████████████████████████                | 400/500 [09:23<02:25,  1.45s/it]"
     ]
    },
    {
     "name": "stdout",
     "output_type": "stream",
     "text": [
      "The loss is: tf.Tensor(0.05365209, shape=(), dtype=float32) at iteration 400\n"
     ]
    },
    {
     "name": "stderr",
     "output_type": "stream",
     "text": [
      " 90%|████████████████████████████████████████████████████████████████████████        | 450/500 [10:51<01:40,  2.01s/it]"
     ]
    },
    {
     "name": "stdout",
     "output_type": "stream",
     "text": [
      "The loss is: tf.Tensor(0.05207248, shape=(), dtype=float32) at iteration 450\n"
     ]
    },
    {
     "name": "stderr",
     "output_type": "stream",
     "text": [
      "100%|████████████████████████████████████████████████████████████████████████████████| 500/500 [12:01<00:00,  1.38s/it]\n"
     ]
    }
   ],
   "source": [
    "num_iters = 500\n",
    "time = 5000 #ms\n",
    "#regularizer = tf.keras.regularizers.L1(l1 = 0.0001)\n",
    "weight_history = network.train(num_iters, [target_func], time, num_trials = 1, input_funcs = input_funcs,\n",
    "              input_weight_matrix = input_weight_matrix, learning_rate = .001)#, regularizer = regularizer)"
   ]
  },
  {
   "cell_type": "code",
   "execution_count": 24,
   "metadata": {},
   "outputs": [
    {
     "name": "stderr",
     "output_type": "stream",
     "text": [
      "100%|███████████████████████████████████████████████████████████████████████████████| 500/500 [00:00<00:00, 797.44it/s]\n"
     ]
    }
   ],
   "source": [
    "network.reset_activations()\n",
    "outputs, activations = network.simulate(time, input_funcs, input_weight_matrix)"
   ]
  },
  {
   "cell_type": "code",
   "execution_count": 25,
   "metadata": {},
   "outputs": [
    {
     "data": {
      "image/png": "[encoded data removed]",
      "text/plain": [
       "<Figure size 432x288 with 1 Axes>"
      ]
     },
     "metadata": {
      "needs_background": "light"
     },
     "output_type": "display_data"
    }
   ],
   "source": [
    "\n",
    "outputs = tf.transpose(outputs).numpy()[0]\n",
    "\n",
    "fig, ax = plt.subplots()\n",
    "plt.plot(range(len(outputs)), outputs)\n",
    "plt.plot(range(len(outputs)), [target_func(t * timestep) for t in range(len(outputs))])\n",
    "plt.show()"
   ]
  },
  {
   "cell_type": "code",
   "execution_count": 26,
   "metadata": {},
   "outputs": [
    {
     "name": "stdout",
     "output_type": "stream",
     "text": [
      "10\n",
      "5000\n"
     ]
    },
    {
     "data": {
      "text/plain": [
       "0.0482081596134772"
      ]
     },
     "execution_count": 26,
     "metadata": {},
     "output_type": "execute_result"
    }
   ],
   "source": [
    "outputs = np.asarray(outputs)\n",
    "\n",
    "targets = np.asarray([target_func(t * timestep) for t in range(len(outputs))])\n",
    "print(timestep)\n",
    "print(time)\n",
    "np.mean((outputs - targets)**2)"
   ]
  },
  {
   "cell_type": "code",
   "execution_count": 16,
   "metadata": {},
   "outputs": [
    {
     "data": {
      "text/plain": [
       "<tf.Tensor: shape=(), dtype=float32, numpy=0.071047656>"
      ]
     },
     "execution_count": 16,
     "metadata": {},
     "output_type": "execute_result"
    }
   ],
   "source": [
    "network.l2_loss_func([target_func], time, num_trials = 1, regularizer = None,\n",
    "                     input_funcs = input_funcs, input_weight_matrix = input_weight_matrix, error_mask = 1)\n"
   ]
  },
  {
   "cell_type": "code",
   "execution_count": 17,
   "metadata": {},
   "outputs": [
    {
     "ename": "TypeError",
     "evalue": "list indices must be integers or slices, not tuple",
     "output_type": "error",
     "traceback": [
      "\u001b[1;31m---------------------------------------------------------------------------\u001b[0m",
      "\u001b[1;31mTypeError\u001b[0m                                 Traceback (most recent call last)",
      "\u001b[1;32m<ipython-input-17-ee3dc32581bb>\u001b[0m in \u001b[0;36m<module>\u001b[1;34m\u001b[0m\n\u001b[0;32m      1\u001b[0m \u001b[1;32mfor\u001b[0m \u001b[0mi\u001b[0m \u001b[1;32min\u001b[0m \u001b[0mrange\u001b[0m\u001b[1;33m(\u001b[0m\u001b[1;36m4\u001b[0m\u001b[1;33m)\u001b[0m\u001b[1;33m:\u001b[0m\u001b[1;33m\u001b[0m\u001b[1;33m\u001b[0m\u001b[0m\n\u001b[0;32m      2\u001b[0m     \u001b[0mfig\u001b[0m\u001b[1;33m,\u001b[0m \u001b[0max\u001b[0m \u001b[1;33m=\u001b[0m \u001b[0mplt\u001b[0m\u001b[1;33m.\u001b[0m\u001b[0msubplots\u001b[0m\u001b[1;33m(\u001b[0m\u001b[1;33m)\u001b[0m\u001b[1;33m\u001b[0m\u001b[1;33m\u001b[0m\u001b[0m\n\u001b[1;32m----> 3\u001b[1;33m     \u001b[0mplt\u001b[0m\u001b[1;33m.\u001b[0m\u001b[0mplot\u001b[0m\u001b[1;33m(\u001b[0m\u001b[0mrange\u001b[0m\u001b[1;33m(\u001b[0m\u001b[0mlen\u001b[0m\u001b[1;33m(\u001b[0m\u001b[0mactivations\u001b[0m\u001b[1;33m[\u001b[0m\u001b[1;33m:\u001b[0m\u001b[1;33m,\u001b[0m\u001b[0mi\u001b[0m\u001b[1;33m]\u001b[0m\u001b[1;33m)\u001b[0m\u001b[1;33m)\u001b[0m\u001b[1;33m,\u001b[0m \u001b[0mactivations\u001b[0m\u001b[1;33m[\u001b[0m\u001b[1;33m:\u001b[0m\u001b[1;33m,\u001b[0m\u001b[0mi\u001b[0m\u001b[1;33m]\u001b[0m\u001b[1;33m)\u001b[0m\u001b[1;33m\u001b[0m\u001b[1;33m\u001b[0m\u001b[0m\n\u001b[0m\u001b[0;32m      4\u001b[0m     \u001b[0mplt\u001b[0m\u001b[1;33m.\u001b[0m\u001b[0mshow\u001b[0m\u001b[1;33m(\u001b[0m\u001b[1;33m)\u001b[0m\u001b[1;33m\u001b[0m\u001b[1;33m\u001b[0m\u001b[0m\n",
      "\u001b[1;31mTypeError\u001b[0m: list indices must be integers or slices, not tuple"
     ]
    },
    {
     "data": {
      "image/png": "[encoded data removed]",
      "text/plain": [
       "<Figure size 432x288 with 1 Axes>"
      ]
     },
     "metadata": {
      "needs_background": "light"
     },
     "output_type": "display_data"
    }
   ],
   "source": [
    "for i in range(4):\n",
    "    fig, ax = plt.subplots()\n",
    "    plt.plot(range(len(activations[:,i])), activations[:,i])\n",
    "    plt.show()"
   ]
  },
  {
   "cell_type": "code",
   "execution_count": null,
   "metadata": {},
   "outputs": [],
   "source": []
  }
 ],
 "metadata": {
  "kernelspec": {
   "display_name": "Python 3",
   "language": "python",
   "name": "python3"
  },
  "language_info": {
   "codemirror_mode": {
    "name": "ipython",
    "version": 3
   },
   "file_extension": ".py",
   "mimetype": "text/x-python",
   "name": "python",
   "nbconvert_exporter": "python",
   "pygments_lexer": "ipython3",
   "version": "3.7.3"
  }
 },
 "nbformat": 4,
 "nbformat_minor": 2
}
